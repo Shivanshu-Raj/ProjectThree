{
 "cells": [
  {
   "cell_type": "code",
   "execution_count": null,
   "id": "549b15ac-a00f-4d26-960b-f52a314c8eb0",
   "metadata": {},
   "outputs": [],
   "source": [
    "import numpy as np\n",
    "import pandas as pd\n",
    "\n",
    "%matplotlib inline\n",
    "\n",
    "import matplotlib as mpl\n",
    "import matplotlib.pyplot as plt\n",
    "\n",
    "mpl.style.use('ggplot')"
   ]
  },
  {
   "cell_type": "code",
   "execution_count": null,
   "id": "c8242cc5-a083-4072-91f8-8c714eeea61f",
   "metadata": {},
   "outputs": [],
   "source": [
    "df_can = pd.read_csv('Canada.csv')"
   ]
  },
  {
   "cell_type": "code",
   "execution_count": null,
   "id": "007436da-c806-421a-8808-e2705bd5c37e",
   "metadata": {},
   "outputs": [],
   "source": [
    "df_can.head()"
   ]
  },
  {
   "cell_type": "code",
   "execution_count": null,
   "id": "e4b76e99-6144-468c-89e9-88558739661f",
   "metadata": {},
   "outputs": [],
   "source": [
    "print(df_can.shape)"
   ]
  },
  {
   "cell_type": "code",
   "execution_count": null,
   "id": "6f39eed4-b34e-4384-aabd-2f68b577a0d7",
   "metadata": {},
   "outputs": [],
   "source": [
    "df_can.set_index('Country', inplace=True)\n",
    "df_can.head()"
   ]
  },
  {
   "cell_type": "code",
   "execution_count": null,
   "id": "cde10083-551e-4e7e-8b36-da17b13f4d77",
   "metadata": {},
   "outputs": [],
   "source": [
    "print('data dimensions:', df_can.shape)"
   ]
  },
  {
   "cell_type": "code",
   "execution_count": null,
   "id": "a3656de3-9bba-47b4-8e6e-bb2027952dcd",
   "metadata": {},
   "outputs": [],
   "source": [
    "df_can.sort_values(['Total'], ascending=False, axis=0, inplace=True)\n",
    "\n",
    "# get the top 5 entries\n",
    "df_top5 = df_can.head()\n",
    "\n",
    "# transpose the dataframe\n",
    "df_top5 = df_top5[years].transpose()\n",
    "\n",
    "df_top5.head()"
   ]
  },
  {
   "cell_type": "markdown",
   "id": "5e03e201-a517-4e76-b272-fe338a4a6f69",
   "metadata": {},
   "source": [
    "Area plot"
   ]
  },
  {
   "cell_type": "code",
   "execution_count": null,
   "id": "69bb61df-48d9-4f82-8a59-a9ecbe977e7a",
   "metadata": {},
   "outputs": [],
   "source": [
    "df_top5.plot(kind='area',\n",
    "             stacked=False,\n",
    "             figsize=(20, 10))  # pass a tuple (x, y) size\n",
    "\n",
    "plt.title('Immigration Trend of Top 5 Countries')\n",
    "plt.ylabel('Number of Immigrants')\n",
    "plt.xlabel('Years')\n",
    "\n",
    "plt.show()"
   ]
  },
  {
   "cell_type": "markdown",
   "id": "7befc5c0-91e5-4ae8-ba62-3a70e742bdc1",
   "metadata": {},
   "source": [
    "Histogram plot"
   ]
  },
  {
   "cell_type": "code",
   "execution_count": null,
   "id": "02b70aa0-3761-4946-a0e5-c86b4ccd826d",
   "metadata": {},
   "outputs": [],
   "source": [
    "df_can['2013'].head()"
   ]
  },
  {
   "cell_type": "code",
   "execution_count": null,
   "id": "188b3e0f-8aeb-48e8-b895-c6d8ff8f51fb",
   "metadata": {},
   "outputs": [],
   "source": [
    "count, bin_edges = np.histogram(df_can['2013'])\n",
    "\n",
    "print(count) # frequency count\n",
    "print(bin_edges)"
   ]
  },
  {
   "cell_type": "markdown",
   "id": "5656d3a2-9610-47b9-8dff-8440f3dda0b7",
   "metadata": {},
   "source": [
    "df_can['2013'].plot(kind='hist', figsize=(8, 5))\n",
    "\n",
    "\n",
    "plt.title('Histogram of Immigration from 195 Countries in 2013')\n",
    "\n",
    "plt.ylabel('Number of Countries')\n",
    "\n",
    "plt.xlabel('Number of Immigrants')\n",
    "\n",
    "plt.show()"
   ]
  },
  {
   "cell_type": "code",
   "execution_count": null,
   "id": "de8dbdff-7802-4890-8a90-b61e540dc650",
   "metadata": {},
   "outputs": [],
   "source": [
    "Bar Plots"
   ]
  },
  {
   "cell_type": "code",
   "execution_count": null,
   "id": "bad28f88-27bd-4c55-83e6-d47ea194212f",
   "metadata": {},
   "outputs": [],
   "source": [
    "df_iceland = df_can.loc['Iceland', years]\n",
    "df_iceland.head()"
   ]
  },
  {
   "cell_type": "code",
   "execution_count": null,
   "id": "68763dba-588c-4a9a-ad71-bd4269761559",
   "metadata": {},
   "outputs": [],
   "source": [
    "df_iceland.plot(kind='bar', figsize=(10, 6))\n",
    "\n",
    "plt.xlabel('Year')\n",
    "plt.ylabel('Number of immigrants') \n",
    "plt.title('Icelandic immigrants to Canada from 1980 to 2013')\n",
    "\n",
    "plt.show()"
   ]
  }
 ],
 "metadata": {
  "kernelspec": {
   "display_name": "Python 3 (ipykernel)",
   "language": "python",
   "name": "python3"
  },
  "language_info": {
   "codemirror_mode": {
    "name": "ipython",
    "version": 3
   },
   "file_extension": ".py",
   "mimetype": "text/x-python",
   "name": "python",
   "nbconvert_exporter": "python",
   "pygments_lexer": "ipython3",
   "version": "3.11.5"
  }
 },
 "nbformat": 4,
 "nbformat_minor": 5
}
